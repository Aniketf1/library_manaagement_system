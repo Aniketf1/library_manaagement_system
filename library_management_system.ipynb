{
 "cells": [
  {
   "cell_type": "code",
   "execution_count": 1,
   "metadata": {},
   "outputs": [
    {
     "name": "stdout",
     "output_type": "stream",
     "text": [
      "\n",
      "    *******welcome to the central library*****\n",
      "    1.to display available book\n",
      "    2.to borrow a book\n",
      "    3.to return a book\n",
      "    4.exit\n",
      "    \n",
      "enter choice from menu4\n",
      "we are very happy to serve you hope we the central library didnt dissapoint you\n",
      "                            vist again\n"
     ]
    }
   ],
   "source": [
    "class Library:\n",
    "    def __init__(self,book_name):\n",
    "        self.book=book_name\n",
    "    def availableBooks(self):\n",
    "        print(\"here is list of available books\\n\",\"\\n\".join(self.book))\n",
    "    def borrowBook(self):\n",
    "        book=input(\"enter the name of you want to borrow\")\n",
    "        if book in self.book:\n",
    "            print(f\"thankyou!your {book} has been issued kindly return it before due date\")\n",
    "            self.book.remove(book)\n",
    "        else:\n",
    "            print(\"sorry!!Entered book is either not available or borrowed by someone kindly wait until book will available \")\n",
    "    def returnBook(self):\n",
    "        book=input(\"enter the name of book you want to return\")\n",
    "        self.book.append(book)\n",
    "            \n",
    "centralLibrary=Library([\"django\",\"python\",\"let us c\",\"literature\"])\n",
    "while(True):\n",
    "    welcomem='''\n",
    "    *******welcome to the central library*****\n",
    "    1.to display available book\n",
    "    2.to borrow a book\n",
    "    3.to return a book\n",
    "    4.exit\n",
    "    '''\n",
    "    print(welcomem)\n",
    "    ch=int(input(\"enter choice from menu\"))\n",
    "    if ch==1:\n",
    "        centralLibrary.availableBooks()\n",
    "    elif ch==2:\n",
    "        centralLibrary.borrowBook()\n",
    "    elif ch==3:\n",
    "        centralLibrary.returnBook()\n",
    "    elif ch==4:\n",
    "        print('''we are very happy to serve you hope we the central library didnt dissapoint you\n",
    "                            vist again''')\n",
    "        break\n",
    "    else:\n",
    "        print(\"opps!! invalid choice\")\n",
    "\n",
    "   "
   ]
  },
  {
   "cell_type": "code",
   "execution_count": null,
   "metadata": {},
   "outputs": [],
   "source": []
  }
 ],
 "metadata": {
  "kernelspec": {
   "display_name": "Python 3",
   "language": "python",
   "name": "python3"
  },
  "language_info": {
   "codemirror_mode": {
    "name": "ipython",
    "version": 3
   },
   "file_extension": ".py",
   "mimetype": "text/x-python",
   "name": "python",
   "nbconvert_exporter": "python",
   "pygments_lexer": "ipython3",
   "version": "3.7.6"
  }
 },
 "nbformat": 4,
 "nbformat_minor": 4
}
